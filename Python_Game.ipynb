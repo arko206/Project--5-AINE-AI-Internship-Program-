{
  "nbformat": 4,
  "nbformat_minor": 0,
  "metadata": {
    "colab": {
      "name": "Python_Game.ipynb",
      "provenance": []
    },
    "kernelspec": {
      "name": "python3",
      "display_name": "Python 3"
    },
    "language_info": {
      "name": "python"
    }
  },
  "cells": [
    {
      "cell_type": "code",
      "metadata": {
        "id": "0aHKWVqREChF"
      },
      "source": [
        "import random"
      ],
      "execution_count": 1,
      "outputs": []
    },
    {
      "cell_type": "markdown",
      "metadata": {
        "id": "6zljp2c5FzTI"
      },
      "source": [
        "**Choice For Computer**"
      ]
    },
    {
      "cell_type": "code",
      "metadata": {
        "id": "HGahQAoEFaK4"
      },
      "source": [
        "Cchoice=[\"Rock\",\"Paper\",\"Scissor\",\"Lizard\",\"Spock\"]"
      ],
      "execution_count": 2,
      "outputs": []
    },
    {
      "cell_type": "markdown",
      "metadata": {
        "id": "ttmY0QYnSPgm"
      },
      "source": [
        "**Game Method**"
      ]
    },
    {
      "cell_type": "code",
      "metadata": {
        "colab": {
          "base_uri": "https://localhost:8080/"
        },
        "id": "x8ee5N8-IQtn",
        "outputId": "938ebe1f-852b-4d07-e3d4-90e2f8b5a77a"
      },
      "source": [
        "while True:\n",
        "\n",
        "  print(\"Rock Paper Scissor Lizard Spock Game:\")\n",
        "  youwin = 0\n",
        "  computerwin=0\n",
        "\n",
        "  for i in range(1,6):\n",
        "    print(\"Round\",i,\"Start:\")\n",
        "    print(\"Please select any one option:\")\n",
        "    print(\"A.Rock\",\"B.Paper\", \"C.Scissor\",\"D.Lizard\",\"E.Spock\", sep=\"\\n\")\n",
        "    Yourchoice = str(input())\n",
        "\n",
        "    if Yourchoice==\"A\":\n",
        "      print(\"You select Rock\")\n",
        "      Yourchoice=\"Rock\"\n",
        "\n",
        "    elif Yourchoice==\"B\":\n",
        "      print(\"You select Paper\")\n",
        "      Yourchoice=\"Paper\"\n",
        "\n",
        "    elif Yourchoice==\"C\":\n",
        "      print(\"You select Scissor\")\n",
        "      Yourchoice=\"Scissor\"\n",
        "\n",
        "    elif Yourchoice==\"D\":\n",
        "      print(\"You select Lizard\")\n",
        "      Yourchoice=\"Lizard\"\n",
        "\n",
        "    elif Yourchoice==\"E\":\n",
        "      print(\"You select Spock\")\n",
        "      Yourchoice=\"Spock\"\n",
        "\n",
        "    elif Yourchoice.isdigit():\n",
        "      print(\"Invalid Choice\")\n",
        "      break\n",
        "      \n",
        "    else:\n",
        "      print(\"Invalid Choice\")\n",
        "      break\n",
        "    \n",
        "    Computerchoice = random.choice(Cchoice)\n",
        "    print(\"Computer select:\",Computerchoice)\n",
        "\n",
        "    if Yourchoice==Computerchoice:\n",
        "      youwin += 1\n",
        "      computerwin += 1\n",
        "      print(\"This Round is Drawn:\")\n",
        "\n",
        "    elif (Yourchoice==\"Paper\" and Computerchoice==\"Rock\") or (Yourchoice==\"Rock\" and Computerchoice==\"Scissor\") or (Yourchoice==\"Scissor\" and Computerchoice==\"Paper\") or (Yourchoice==\"Lizard\" and Computerchoice==\"Paper\") or (Yourchoice==\"Lizard\" and Computerchoice==\"Spock\") or (Yourchoice==\"Rock\" and Computerchoice==\"Lizard\") or (Yourchoice==\"Spock\" and Computerchoice==\"Rock\") or (Yourchoice==\"Spock\" and Computerchoice==\"Scissor\") or (Yourchoice==\"Scissor\" and Computerchoice==\"Lizard\"):\n",
        "      youwin += 1\n",
        "      print(\"You win this Round\")\n",
        "\n",
        "    else:\n",
        "      computerwin += 1\n",
        "      print(\"Computer win this Round\")\n",
        "\n",
        "    \n",
        "  if youwin > computerwin:\n",
        "    print(\"You win the game:\")\n",
        "    print(\"Score is:\",\"Your score:\",youwin,\"Computer Score:\",computerwin, sep=\" \")\n",
        "\n",
        "  elif computerwin > youwin:\n",
        "    print(\"You Lose the game.Computer win the game:\")\n",
        "    print(\"Score is:\",\"Your score:\",youwin,\"Computer Score:\",computerwin, sep=\" \")\n",
        "\n",
        "  else:\n",
        "    print(\"Match Drawn\")\n",
        "    print(\"Score is:\",\"Your score:\",youwin,\"Computer Score:\",computerwin, sep=\" \")\n",
        "\n",
        "  user_choice=input(\"Want to Play again?(Yes/Exit)\")\n",
        "  if user_choice=='yes' or user_choice=='Yes' or user_choice=='YES':\n",
        "    continue\n",
        "  else:\n",
        "    break\n",
        "    \n",
        "\n"
      ],
      "execution_count": 3,
      "outputs": [
        {
          "name": "stdout",
          "output_type": "stream",
          "text": [
            "Rock Paper Scissor Lizard Spock Game:\n",
            "Round 1 Start:\n",
            "Please select any one option:\n",
            "A.Rock\n",
            "B.Paper\n",
            "C.Scissor\n",
            "D.Lizard\n",
            "E.Spock\n",
            "B\n",
            "You select Paper\n",
            "Computer select: Lizard\n",
            "Computer win this Round\n",
            "Round 2 Start:\n",
            "Please select any one option:\n",
            "A.Rock\n",
            "B.Paper\n",
            "C.Scissor\n",
            "D.Lizard\n",
            "E.Spock\n",
            "C\n",
            "You select Scissor\n",
            "Computer select: Scissor\n",
            "This Round is Drawn:\n",
            "Round 3 Start:\n",
            "Please select any one option:\n",
            "A.Rock\n",
            "B.Paper\n",
            "C.Scissor\n",
            "D.Lizard\n",
            "E.Spock\n",
            "D\n",
            "You select Lizard\n",
            "Computer select: Scissor\n",
            "Computer win this Round\n",
            "Round 4 Start:\n",
            "Please select any one option:\n",
            "A.Rock\n",
            "B.Paper\n",
            "C.Scissor\n",
            "D.Lizard\n",
            "E.Spock\n",
            "E\n",
            "You select Spock\n",
            "Computer select: Paper\n",
            "Computer win this Round\n",
            "Round 5 Start:\n",
            "Please select any one option:\n",
            "A.Rock\n",
            "B.Paper\n",
            "C.Scissor\n",
            "D.Lizard\n",
            "E.Spock\n",
            "4\n",
            "Invalid Choice\n",
            "You Lose the game.Computer win the game:\n",
            "Score is: Your score: 1 Computer Score: 4\n",
            "Want to Play again?(Yes/Exit)Exit\n"
          ]
        }
      ]
    }
  ]
}